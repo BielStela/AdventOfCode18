{
 "cells": [
  {
   "cell_type": "markdown",
   "metadata": {},
   "source": [
    "Units never move or attack diagonally.\n",
    "When multiple choices are equally valid, ties are broken in reading order:\n",
    "+ top-to-bottom, then left-to-right\n",
    "\n",
    "Each unit begins its turn by identifying all possible targets (enemy units). If no targets remain, combat ends."
   ]
  },
  {
   "cell_type": "markdown",
   "metadata": {},
   "source": [
    "```\n",
    "Targets:      In range:     Reachable:    Nearest:      Chosen:\n",
    "#######       #######       #######       #######       #######\n",
    "#E..G.#       #E.?G?#       #E.@G.#       #E.!G.#       #E.+G.#\n",
    "#...#.#  -->  #.?.#?#  -->  #.@.#.#  -->  #.!.#.#  -->  #...#.#\n",
    "#.G.#G#       #?G?#G#       #@G@#G#       #!G.#G#       #.G.#G#\n",
    "#######       #######       #######       #######       #######\n",
    "```\n",
    "In the above scenario, the Elf has three targets (the three Goblins):\n",
    "\n",
    "+ Each of the Goblins has open, adjacent squares which are in range (marked with a ? on the map).\n",
    "+ Of those squares, four are reachable (marked @); the other two (on the right) would require moving through a wall or unit to reach.\n",
    "+ Three of these reachable squares are nearest, requiring the fewest steps (only 2) to reach (marked !).\n",
    "+ Of those, the square which is first in reading order is chosen (+).\n",
    "\n",
    "Each unit begins its turn by identifying all possible targets (enemy units). If no targets remain, combat ends.\n",
    "\n",
    "```\n",
    "In range:     Nearest:      Chosen:       Distance:     Step:\n",
    "#######       #######       #######       #######       #######\n",
    "#.E...#       #.E...#       #.E...#       #4E212#       #..E..#\n",
    "#...?.#  -->  #...!.#  -->  #...+.#  -->  #32101#  -->  #.....#\n",
    "#..?G?#       #..!G.#       #...G.#       #432G2#       #...G.#\n",
    "#######       #######       #######       #######       #######\n",
    "```"
   ]
  },
  {
   "cell_type": "code",
   "execution_count": 24,
   "metadata": {},
   "outputs": [],
   "source": [
    "from typing import Tuple, List\n",
    "\n",
    "import collections\n",
    "import re \n",
    "import numpy as np\n",
    "\n",
    "\n",
    "def sum_tuple(t1: Tuple[int, int], t2: Tuple[int, int]) -> Tuple[int, int]:\n",
    "    return tuple(map(sum, zip(t1, t2)))\n",
    "\n",
    "\n",
    "def parse(f: str) -> np.ndarray:\n",
    "    with open(f) as f:\n",
    "        raw = f.readlines()\n",
    "    raw = [l.replace('\\n', '') for l in raw]  # removes end lines\n",
    "    arr = np.asanyarray([list(l) for l in raw], dtype='<U10')\n",
    "    return arr\n",
    "\n",
    "\n",
    "def print_array(arr):\n",
    "    print('\\n'.join(' '.join(f'{x}' for x in line) for line in arr))\n",
    "\n",
    "\n",
    "def bfs(grid, start, goal):\n",
    "    \"\"\"Breadth First Search\"\"\"\n",
    "    wall, clear = \"#\", \".\"\n",
    "    width, height = grid.shape\n",
    "    queue = collections.deque([[start]])\n",
    "    seen = set([start])\n",
    "    while queue:\n",
    "        path = queue.popleft()\n",
    "        x, y = path[-1]\n",
    "        if grid[y, x] == goal:  # change to coordinates\n",
    "            return path\n",
    "        for x2, y2 in ((x+1,y), (x-1,y), (x,y+1), (x,y-1)):\n",
    "            if 0 <= x2 < width and 0 <= y2 < height and grid[x2, y2] != wall and (x2, y2) not in seen:\n",
    "                queue.append(path + [(x2, y2)])\n",
    "                seen.add((x2, y2))\n",
    "\n",
    "\n",
    "class Unit():\n",
    "    \n",
    "    hitpoints: int\n",
    "    attack_power: int\n",
    "    kind: str\n",
    "    pos: Tuple[int, int]\n",
    "    turn: int\n",
    "\n",
    "    def __init__(self, kind, pos):\n",
    "        \n",
    "        self.kind = kind\n",
    "        self.attack_power = 3\n",
    "        self.hitpoints = 200\n",
    "        self.kind_long = self.expand_kind()\n",
    "        self.pos = pos\n",
    "        self.turn = 0\n",
    "\n",
    "    def expand_kind(self):\n",
    "        if self.kind == 'E':\n",
    "            long = 'Elf'\n",
    "        else:\n",
    "            long = 'Goblin'\n",
    "        return long\n",
    "    \n",
    "    def __repr__(self):\n",
    "        rep = f'Unit({self.kind_long}, {self.hitpoints}, {self.pos}, {self.turn})'\n",
    "        return rep\n",
    "    \n",
    "    def find_targets(self, units) -> List:\n",
    "        \"\"\"Find closest enemy target\"\"\"\n",
    "        if self.kind == 'E':\n",
    "            target = 'G'\n",
    "        else:\n",
    "            target = 'E'\n",
    "        \n",
    "        self.targets = [x for x in units if x.kind == target]\n",
    "        return self.targets\n",
    "    \n",
    "    @staticmethod\n",
    "    def look_around(pos, board) -> List[Tuple[str, Tuple[int, int]]]:\n",
    "        \"\"\"Returns the chars around a point\"\"\"\n",
    "        # up, rigth, down, left\n",
    "        looks = ((1,0), (0,1), (-1,0), (0,-1))\n",
    "        chars = [(board[sum_tuple(pos, l)],sum_tuple(pos, l)) for l in looks]\n",
    "        return chars\n",
    "    \n",
    "    def bfs(grid, start):\n",
    "        wall, clear, goal = \"#\", \".\", \"*\"\n",
    "        queue = collections.deque([[start]])\n",
    "        seen = set([start])\n",
    "        while queue:\n",
    "            path = queue.popleft()\n",
    "            x, y = path[-1]\n",
    "            if grid[y, x] == goal:\n",
    "                return path\n",
    "            for x2, y2 in ((x+1,y), (x-1,y), (x,y+1), (x,y-1)):\n",
    "                if 0 <= x2 < width and 0 <= y2 < height and grid[y2][x2] != wall and (x2, y2) not in seen:\n",
    "                    queue.append(path + [(x2, y2)])\n",
    "                    seen.add((x2, y2))\n",
    "                    \n",
    "    def is_reachable(self, target) -> bool:\n",
    "        pass\n",
    "        \n",
    "    \n",
    "    def find_empty_squares(self, board):\n",
    "        for target in self.targets:\n",
    "            # if self.is_reachable(target):\n",
    "            # reachable\n",
    "            sorroundings = self.look_around(target.pos, board)\n",
    "            # in range and not wall\n",
    "            sorroundings = [c for c in sorroundings if c[0] != '#']\n",
    "    \n",
    "            print(sorroundings)\n",
    "        "
   ]
  },
  {
   "cell_type": "code",
   "execution_count": 25,
   "metadata": {},
   "outputs": [],
   "source": [
    "board = parse('day15_example_walled.txt')"
   ]
  },
  {
   "cell_type": "code",
   "execution_count": 26,
   "metadata": {},
   "outputs": [],
   "source": [
    "path = bfs(board, (1,1), 'E')"
   ]
  },
  {
   "cell_type": "code",
   "execution_count": 27,
   "metadata": {},
   "outputs": [
    {
     "name": "stdout",
     "output_type": "stream",
     "text": [
      "# # # # # # # # #\n",
      "# G . . G . . G #\n",
      "# . . . . . . . #\n",
      "# . . # # # # # #\n",
      "# G . # E . . G #\n",
      "# . . # # . . . #\n",
      "# . . . . . . . #\n",
      "# G . . G . . G #\n",
      "# # # # # # # # #\n"
     ]
    }
   ],
   "source": [
    "print_array(board)"
   ]
  },
  {
   "cell_type": "code",
   "execution_count": 28,
   "metadata": {},
   "outputs": [
    {
     "name": "stdout",
     "output_type": "stream",
     "text": [
      "# # # # # # # # #\n",
      "# * . . G . . G #\n",
      "# * . . . . . . #\n",
      "# * . # # # # # #\n",
      "# * . # * * . G #\n",
      "# * . # # * . . #\n",
      "# * * * * * . . #\n",
      "# G . . G . . G #\n",
      "# # # # # # # # #\n"
     ]
    }
   ],
   "source": [
    "for p in path:\n",
    "    board[p] = '*'\n",
    "print_array(board)"
   ]
  },
  {
   "cell_type": "code",
   "execution_count": 29,
   "metadata": {},
   "outputs": [],
   "source": [
    "def find_units(board: np.ndarray) -> List[Unit]:\n",
    "    units = []\n",
    "    goblins = list(tuple(zip(*np.where(board == 'G'))))\n",
    "    elfs = list(tuple(zip(*np.where(board == 'E'))))\n",
    "    \n",
    "    for pos in goblins:\n",
    "        goblin = Unit('G', pos)\n",
    "        units.append(goblin)\n",
    "    \n",
    "    for pos in elfs:\n",
    "        elf = Unit('E', pos)\n",
    "        units.append(elf)\n",
    "    \n",
    "    units = sorted(units, key=lambda x: (x.pos[0], x.pos[1]))\n",
    "    \n",
    "    for i, u in enumerate(units):  # put original turn \n",
    "        u.turn = i\n",
    "    return units "
   ]
  },
  {
   "cell_type": "code",
   "execution_count": 30,
   "metadata": {},
   "outputs": [],
   "source": [
    "units = find_units(board)"
   ]
  },
  {
   "cell_type": "code",
   "execution_count": 31,
   "metadata": {},
   "outputs": [
    {
     "data": {
      "text/plain": [
       "[]"
      ]
     },
     "execution_count": 31,
     "metadata": {},
     "output_type": "execute_result"
    }
   ],
   "source": [
    "units[0].find_targets(units)"
   ]
  },
  {
   "cell_type": "code",
   "execution_count": 23,
   "metadata": {},
   "outputs": [],
   "source": [
    "units[0].find_empty_squares(board)"
   ]
  }
 ],
 "metadata": {
  "kernelspec": {
   "display_name": "Python 3",
   "language": "python",
   "name": "python3"
  },
  "language_info": {
   "codemirror_mode": {
    "name": "ipython",
    "version": 3
   },
   "file_extension": ".py",
   "mimetype": "text/x-python",
   "name": "python",
   "nbconvert_exporter": "python",
   "pygments_lexer": "ipython3",
   "version": "3.7.0"
  }
 },
 "nbformat": 4,
 "nbformat_minor": 2
}
