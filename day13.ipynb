{
 "cells": [
  {
   "cell_type": "code",
   "execution_count": 269,
   "metadata": {},
   "outputs": [
    {
     "name": "stdout",
     "output_type": "stream",
     "text": [
      "[['/' '-' '>' '^' '\\\\' ' ' ' ' ' ' ' ' ' ' ' ' ' ' ' ']\n",
      " ['|' ' ' ' ' ' ' '|' ' ' ' ' '/' '-' '-' '-' '-' '\\\\']\n",
      " ['|' ' ' '/' '-' '+' '-' '-' '+' '-' '\\\\' ' ' ' ' '|']\n",
      " ['|' ' ' '|' ' ' '|' ' ' ' ' '|' ' ' 'v' ' ' ' ' '|']\n",
      " ['\\\\' '-' '+' '-' '/' ' ' ' ' '\\\\' '-' '>' '-' '-' '/']\n",
      " [' ' ' ' '\\\\' '-' '-' '-' '-' '-' '-' '/' ' ' ' ' ' ']]\n",
      "[['/' '-' '>' '>' '\\\\' ' ' ' ' ' ' ' ' ' ' ' ' ' ' ' ']\n",
      " ['|' ' ' ' ' ' ' '|' ' ' ' ' '/' '-' '-' '-' '-' '\\\\']\n",
      " ['|' ' ' '/' '-' '+' '-' '-' '+' '-' '\\\\' ' ' ' ' '|']\n",
      " ['|' ' ' '|' ' ' '|' ' ' ' ' '|' ' ' 'v' ' ' ' ' '|']\n",
      " ['\\\\' '-' '+' '-' '/' ' ' ' ' '\\\\' '-' 'v' '>' '-' '/']\n",
      " [' ' ' ' '\\\\' '^' '-' '-' '-' '-' '-' '/' ' ' ' ' ' ']]\n",
      "[['/' '-' '>' '>' '>' ' ' ' ' ' ' ' ' ' ' ' ' ' ' ' ']\n",
      " ['|' ' ' ' ' ' ' '|' ' ' ' ' '/' '-' '-' '-' '-' '\\\\']\n",
      " ['|' ' ' '/' '-' '+' '-' '-' '+' '-' '\\\\' ' ' ' ' '|']\n",
      " ['|' ' ' '|' ' ' '|' ' ' ' ' '|' ' ' 'v' ' ' ' ' '|']\n",
      " ['\\\\' '-' '+' '^' '/' ' ' ' ' '\\\\' '-' 'v' '>' '>' '/']\n",
      " [' ' ' ' '\\\\' '^' '-' '-' '-' '-' '-' 'v' ' ' ' ' ' ']]\n"
     ]
    },
    {
     "ename": "IndexError",
     "evalue": "index 6 is out of bounds for axis 0 with size 6",
     "output_type": "error",
     "traceback": [
      "\u001b[0;31m---------------------------------------------------------------------------\u001b[0m",
      "\u001b[0;31mIndexError\u001b[0m                                Traceback (most recent call last)",
      "\u001b[0;32m<ipython-input-269-a996657fdd5b>\u001b[0m in \u001b[0;36m<module>\u001b[0;34m\u001b[0m\n\u001b[1;32m    133\u001b[0m         \u001b[0;32mif\u001b[0m \u001b[0mnext_char\u001b[0m \u001b[0;32min\u001b[0m \u001b[0mcart_symbols\u001b[0m\u001b[0;34m:\u001b[0m  \u001b[0;31m# crash\u001b[0m\u001b[0;34m\u001b[0m\u001b[0m\n\u001b[1;32m    134\u001b[0m             \u001b[0mcrash_idx\u001b[0m\u001b[0;34m.\u001b[0m\u001b[0mappend\u001b[0m\u001b[0;34m(\u001b[0m\u001b[0mnext_idx\u001b[0m\u001b[0;34m)\u001b[0m\u001b[0;34m\u001b[0m\u001b[0m\n\u001b[0;32m--> 135\u001b[0;31m             \u001b[0mtracks\u001b[0m\u001b[0;34m[\u001b[0m\u001b[0mnext_idx\u001b[0m\u001b[0;34m]\u001b[0m \u001b[0;34m=\u001b[0m \u001b[0;34m'X'\u001b[0m\u001b[0;34m\u001b[0m\u001b[0m\n\u001b[0m\u001b[1;32m    136\u001b[0m             \u001b[0mcrash\u001b[0m \u001b[0;34m=\u001b[0m \u001b[0;32mTrue\u001b[0m\u001b[0;34m\u001b[0m\u001b[0m\n\u001b[1;32m    137\u001b[0m \u001b[0;34m\u001b[0m\u001b[0m\n",
      "\u001b[0;31mIndexError\u001b[0m: index 6 is out of bounds for axis 0 with size 6"
     ]
    }
   ],
   "source": [
    "from typing import Tuple, List, Set, Mapping\n",
    "from collections import namedtuple\n",
    "import numpy as np\n",
    "\n",
    "Cart_next = Mapping[str, Tuple[int, int]]\n",
    "\n",
    "cart_symbols = '> v < ^'.split()\n",
    "dir_coords = [(0, 1), (1, 0), (0, -1), (-1, 0)]\n",
    "\n",
    "# cart symbol direction, maps symbol wth coord change in the next tick\n",
    "# if no intersection is present\n",
    "cart_next = {k: v for k, v in zip(cart_symbols, dir_coords)}\n",
    "\n",
    "\n",
    "class Cart:\n",
    "    def __init__(self, position: Tuple[int, int], intersec_count: int, orientation: str):\n",
    "        self.position = position\n",
    "        self.intersec_count = intersec_count\n",
    "        self.orientation = orientation\n",
    "\n",
    "    def __repr__(self):\n",
    "        rep = (f'Cart(position:{self.position}, '\n",
    "               f'intersect_count:{self.intersec_count}, '\n",
    "               f'orient:{self.orientation})' )\n",
    "        return rep\n",
    "    \n",
    "\n",
    "def parse(f: str) -> List[str]:\n",
    "    with open(f) as f:\n",
    "        raw = f.readlines()\n",
    "    \n",
    "    raw = [l.replace('\\n', '') for l in raw]  # removes end lines\n",
    "    arr = np.asanyarray([list(l) for l in raw], dtype='<U10')\n",
    "    return arr\n",
    "\n",
    "tracks = parse('day13_example.txt')\n",
    "\n",
    "\n",
    "def find_carts(raw: np.ndarray) -> List[Cart]:\n",
    "    \"\"\"Finds carts positions\n",
    "    Returns\n",
    "    -------\n",
    "    cart_position: list[list(tuple))\n",
    "        list of lists with x,y coordinates tuple.\n",
    "        the sublist are the car directions ('> v < ^')\n",
    "    \"\"\"\n",
    "    cart_positions = []\n",
    "    for i, line in enumerate(raw):\n",
    "        for j, c in enumerate(line):\n",
    "            if c in dir_symbols:\n",
    "                cart_positions.append(Cart((i, j), 0, c))\n",
    "    return cart_positions\n",
    "\n",
    "\n",
    "def change_direction(current_orientation, next_char):\n",
    "    if current_orientation == '>' and next_char == '\\\\':\n",
    "        next_orientation = 'v'\n",
    "    \n",
    "    elif current_orientation == '>' and next_char == '/':\n",
    "        next_orientation = '^'\n",
    "    \n",
    "    elif current_orientation == '^' and next_char == '/':\n",
    "        next_orientation = '>'\n",
    "    \n",
    "    elif current_orientation == '^' and next_char == '\\\\':\n",
    "        next_orientation = '<'\n",
    "    \n",
    "    elif current_orientation == 'v' and next_char == '\\\\':\n",
    "        next_orientation = '>'\n",
    "    \n",
    "    elif current_orientation == 'v' and next_char == '/':\n",
    "        next_orientation = '<'\n",
    "    \n",
    "    elif current_orientation == '<' and next_char == '/':\n",
    "        next_orientation = 'v'\n",
    "    \n",
    "    elif current_orientation == '<' and next_char == '\\\\':\n",
    "        next_orientation = '^'\n",
    "    \n",
    "    else:\n",
    "        next_orientation = current_orientation\n",
    "    return next_orientation\n",
    "\n",
    "def rotate_rigth(orient):\n",
    "    if orient == '>':\n",
    "        new = 'v'\n",
    "    elif orient == 'v':\n",
    "        new = '<'\n",
    "    elif orient == '<':\n",
    "        new = '^'\n",
    "    elif orient == '^':\n",
    "        new = '>'\n",
    "    return new\n",
    "\n",
    "def rotate_left(orient):\n",
    "    if orient == '>':\n",
    "        new = '^'\n",
    "    elif orient == '^':\n",
    "        new = '<'\n",
    "    elif orient == '<':\n",
    "        new = 'v'\n",
    "    elif orient == 'v':\n",
    "        new = '>'\n",
    "    return new\n",
    "\n",
    "\n",
    "def intersection(current_orient, counts):\n",
    "    if counts % 3 == 1:\n",
    "        new = rotate_left(current_orient)\n",
    "    \n",
    "    if counts % 3 == 2:\n",
    "        new = current_orient\n",
    "    \n",
    "    if counts % 3 == 0:\n",
    "        new = rotate_rigth(current_orient)\n",
    "    return new\n",
    "\n",
    "\n",
    "def print_array(arr):\n",
    "    print('\\n'.join(['\\t'.join(e) for e in line for line in arr]))\n",
    "\n",
    "\n",
    "while True:\n",
    "    crash_idx = []\n",
    "    crash = False\n",
    "    if crash:\n",
    "        break\n",
    "    carts = find_carts(tracks)\n",
    "    for i, cart in enumerate(carts):\n",
    "        next_idx = tuple(map(sum, zip(cart.position, cart_next[cart.orientation])))\n",
    "        next_char = tracks[next_char_idx]\n",
    "        \n",
    "        if next_char in cart_symbols:  # crash\n",
    "            crash_idx.append(next_idx)\n",
    "            tracks[next_idx] = 'X'\n",
    "            crash = True\n",
    "\n",
    "        if next_char == '+':\n",
    "            cart.intersec_count = 1\n",
    "            cart.orientation = intersection(cart.orientation, cart.intersec_count)\n",
    "        cart.orientation = change_direction(cart.orientation, next_char)\n",
    "        \n",
    "        # remove cart from current idx\n",
    "#         track[cart.position] = \n",
    "        cart.position = next_idx\n",
    "        tracks[next_idx] = cart.orientation\n",
    "    print(tracks)"
   ]
  },
  {
   "cell_type": "code",
   "execution_count": 257,
   "metadata": {},
   "outputs": [],
   "source": [
    "carts = find_carts(tracks)"
   ]
  },
  {
   "cell_type": "code",
   "execution_count": 258,
   "metadata": {},
   "outputs": [
    {
     "data": {
      "text/plain": [
       "[Cart(position:(0, 2), intersect_count:0, orient:>),\n",
       " Cart(position:(3, 9), intersect_count:0, orient:v)]"
      ]
     },
     "execution_count": 258,
     "metadata": {},
     "output_type": "execute_result"
    }
   ],
   "source": [
    "carts"
   ]
  },
  {
   "cell_type": "code",
   "execution_count": 263,
   "metadata": {},
   "outputs": [
    {
     "data": {
      "text/plain": [
       "(6, 13)"
      ]
     },
     "execution_count": 263,
     "metadata": {},
     "output_type": "execute_result"
    }
   ],
   "source": [
    "tracks.shape"
   ]
  },
  {
   "cell_type": "code",
   "execution_count": 264,
   "metadata": {},
   "outputs": [
    {
     "ename": "IndexError",
     "evalue": "index 6 is out of bounds for axis 0 with size 6",
     "output_type": "error",
     "traceback": [
      "\u001b[0;31m---------------------------------------------------------------------------\u001b[0m",
      "\u001b[0;31mIndexError\u001b[0m                                Traceback (most recent call last)",
      "\u001b[0;32m<ipython-input-264-42c7bef431f2>\u001b[0m in \u001b[0;36m<module>\u001b[0;34m\u001b[0m\n\u001b[1;32m     11\u001b[0m         \u001b[0;32mif\u001b[0m \u001b[0mnext_char\u001b[0m \u001b[0;32min\u001b[0m \u001b[0mcart_symbols\u001b[0m\u001b[0;34m:\u001b[0m  \u001b[0;31m# crash\u001b[0m\u001b[0;34m\u001b[0m\u001b[0m\n\u001b[1;32m     12\u001b[0m             \u001b[0mcrash_idx\u001b[0m\u001b[0;34m.\u001b[0m\u001b[0mappend\u001b[0m\u001b[0;34m(\u001b[0m\u001b[0mnext_idx\u001b[0m\u001b[0;34m)\u001b[0m\u001b[0;34m\u001b[0m\u001b[0m\n\u001b[0;32m---> 13\u001b[0;31m             \u001b[0mtracks\u001b[0m\u001b[0;34m[\u001b[0m\u001b[0mnext_idx\u001b[0m\u001b[0;34m]\u001b[0m \u001b[0;34m=\u001b[0m \u001b[0;34m'X'\u001b[0m\u001b[0;34m\u001b[0m\u001b[0m\n\u001b[0m\u001b[1;32m     14\u001b[0m             \u001b[0mcrash\u001b[0m \u001b[0;34m=\u001b[0m \u001b[0;32mTrue\u001b[0m\u001b[0;34m\u001b[0m\u001b[0m\n\u001b[1;32m     15\u001b[0m \u001b[0;34m\u001b[0m\u001b[0m\n",
      "\u001b[0;31mIndexError\u001b[0m: index 6 is out of bounds for axis 0 with size 6"
     ]
    }
   ],
   "source": []
  },
  {
   "cell_type": "code",
   "execution_count": 242,
   "metadata": {},
   "outputs": [
    {
     "data": {
      "text/plain": [
       "[]"
      ]
     },
     "execution_count": 242,
     "metadata": {},
     "output_type": "execute_result"
    }
   ],
   "source": [
    "crash_idx"
   ]
  },
  {
   "cell_type": "code",
   "execution_count": null,
   "metadata": {},
   "outputs": [],
   "source": [
    "print_array"
   ]
  }
 ],
 "metadata": {
  "kernelspec": {
   "display_name": "Python 3",
   "language": "python",
   "name": "python3"
  },
  "language_info": {
   "codemirror_mode": {
    "name": "ipython",
    "version": 3
   },
   "file_extension": ".py",
   "mimetype": "text/x-python",
   "name": "python",
   "nbconvert_exporter": "python",
   "pygments_lexer": "ipython3",
   "version": "3.7.0"
  }
 },
 "nbformat": 4,
 "nbformat_minor": 2
}
